{
 "cells": [
  {
   "cell_type": "code",
   "execution_count": 46,
   "metadata": {},
   "outputs": [
    {
     "name": "stdout",
     "output_type": "stream",
     "text": [
      "Hello world\n"
     ]
    }
   ],
   "source": [
    "print( 'Hello world')"
   ]
  },
  {
   "cell_type": "code",
   "execution_count": 47,
   "metadata": {},
   "outputs": [],
   "source": [
    "x = 5"
   ]
  },
  {
   "cell_type": "code",
   "execution_count": 48,
   "metadata": {},
   "outputs": [],
   "source": [
    "y = 78"
   ]
  },
  {
   "cell_type": "code",
   "execution_count": 49,
   "metadata": {},
   "outputs": [
    {
     "name": "stdout",
     "output_type": "stream",
     "text": [
      "5\n"
     ]
    }
   ],
   "source": [
    "print(x)"
   ]
  },
  {
   "cell_type": "code",
   "execution_count": 50,
   "metadata": {},
   "outputs": [
    {
     "name": "stdout",
     "output_type": "stream",
     "text": [
      "78\n"
     ]
    }
   ],
   "source": [
    "print (y)"
   ]
  },
  {
   "cell_type": "code",
   "execution_count": 51,
   "metadata": {},
   "outputs": [
    {
     "name": "stdout",
     "output_type": "stream",
     "text": [
      "Requirement already satisfied: scikit-learn in c:\\users\\robotux\\appdata\\local\\programs\\python\\python310\\lib\\site-packages (1.0.2)\n",
      "Requirement already satisfied: scipy>=1.1.0 in c:\\users\\robotux\\appdata\\local\\programs\\python\\python310\\lib\\site-packages (from scikit-learn) (1.8.0)\n",
      "Requirement already satisfied: joblib>=0.11 in c:\\users\\robotux\\appdata\\local\\programs\\python\\python310\\lib\\site-packages (from scikit-learn) (1.1.0)\n",
      "Requirement already satisfied: numpy>=1.14.6 in c:\\users\\robotux\\appdata\\local\\programs\\python\\python310\\lib\\site-packages (from scikit-learn) (1.22.1)\n",
      "Requirement already satisfied: threadpoolctl>=2.0.0 in c:\\users\\robotux\\appdata\\local\\programs\\python\\python310\\lib\\site-packages (from scikit-learn) (3.1.0)\n",
      "Note: you may need to restart the kernel to use updated packages.\n"
     ]
    }
   ],
   "source": [
    "pip install scikit-learn"
   ]
  },
  {
   "cell_type": "code",
   "execution_count": 52,
   "metadata": {},
   "outputs": [],
   "source": [
    "import pandas as pd\n",
    "from sklearn.datasets import make_classification\n",
    "from sklearn.linear_model import RidgeClassifier\n",
    "\n",
    "X, Y = make_classification(\n",
    "    n_features=2, n_redundant=0, n_informative=2, n_clusters_per_class=1\n",
    ")"
   ]
  },
  {
   "cell_type": "code",
   "execution_count": 53,
   "metadata": {},
   "outputs": [
    {
     "name": "stdout",
     "output_type": "stream",
     "text": [
      "(100, 2)\n",
      "[[ 2.39937852 -0.3722527 ]\n",
      " [ 2.64734062  1.17922471]\n",
      " [ 2.02762823  0.20531763]\n",
      " [-0.60626755 -3.46106166]\n",
      " [ 1.33550358 -0.43837889]\n",
      " [ 0.81321964 -0.65071658]\n",
      " [ 1.48437201  0.03452643]\n",
      " [-0.87836047 -0.20495853]\n",
      " [-0.60968246 -2.0711727 ]\n",
      " [-1.03728009 -3.33856971]\n",
      " [ 0.64742351 -1.2887585 ]\n",
      " [-0.02062504 -1.85106457]\n",
      " [ 1.87493585  0.00452956]\n",
      " [-0.42877125 -1.16342717]\n",
      " [-1.08315722 -1.86704214]\n",
      " [ 1.1254983  -1.46492847]\n",
      " [ 1.76086995  0.24977572]\n",
      " [ 1.94739212 -0.07616432]\n",
      " [-1.5991413   0.40565757]\n",
      " [ 0.76744393 -1.45233511]\n",
      " [-0.04186502 -1.22828944]\n",
      " [ 0.25868057 -2.16295464]\n",
      " [-0.65644114 -3.4367769 ]\n",
      " [ 1.76912208 -0.29382579]\n",
      " [ 1.25353658 -1.35189573]\n",
      " [-0.75891118 -1.25811338]\n",
      " [-0.86355676 -1.67930434]\n",
      " [ 2.31557465  0.49780093]\n",
      " [ 1.41868322 -0.02584294]\n",
      " [-0.28698842 -2.19593436]\n",
      " [-0.77931059 -0.35316859]\n",
      " [ 0.05643863 -1.1481833 ]\n",
      " [ 1.19884062 -0.92412806]\n",
      " [ 0.48810489 -1.59724285]\n",
      " [-0.9568111   0.10657811]\n",
      " [ 2.26287175  0.26852214]\n",
      " [-2.24521608 -1.79419231]\n",
      " [-0.32287981 -1.69978832]\n",
      " [ 0.19317958 -3.33832533]\n",
      " [ 1.77870501 -0.35633928]\n",
      " [-0.55028108 -0.8842941 ]\n",
      " [ 1.25491304 -0.38106318]\n",
      " [ 1.18582389 -0.8175907 ]\n",
      " [ 0.07606978 -1.61654665]\n",
      " [-0.14550102 -2.30761498]\n",
      " [ 0.2685965  -1.46050332]\n",
      " [ 1.08258834 -0.61219782]\n",
      " [ 0.65219523 -1.50942769]\n",
      " [-1.7536418  -0.19479657]\n",
      " [ 0.7588864  -0.89747541]\n",
      " [ 2.42878938 -0.12427544]\n",
      " [ 0.71518368 -1.58955956]\n",
      " [-3.04960994  0.64187209]\n",
      " [-2.22722076 -0.93915289]\n",
      " [-0.68342296 -1.52480015]\n",
      " [-0.1673569  -2.49136567]\n",
      " [ 0.02541315 -1.55759513]\n",
      " [ 1.18164712 -0.40027455]\n",
      " [-0.93632184  0.12713093]\n",
      " [-1.81891795  0.57380878]\n",
      " [-0.61796649 -1.59006527]\n",
      " [ 2.62627423  1.72112472]\n",
      " [ 0.21455265 -2.30145428]\n",
      " [-2.13272833 -1.00635954]\n",
      " [-0.19961083 -1.94388154]\n",
      " [ 0.24299367 -2.43880374]\n",
      " [-0.37552619 -1.24072391]\n",
      " [-2.74732906  0.99812309]\n",
      " [-1.69512033  0.02374161]\n",
      " [ 2.55706336  0.2782143 ]\n",
      " [-0.38662748 -0.87737807]\n",
      " [-0.23740011 -2.4207689 ]\n",
      " [-0.880874   -0.41008682]\n",
      " [-1.27176819 -1.49972935]\n",
      " [ 1.905609    0.01803111]\n",
      " [-0.97794015  0.02514575]\n",
      " [ 2.33830041  0.01224551]\n",
      " [-1.18803404 -0.11331894]\n",
      " [ 1.45225889 -0.16294113]\n",
      " [-1.0444822  -1.82420648]\n",
      " [ 0.2407494  -1.94295606]\n",
      " [ 2.02757035 -0.35211308]\n",
      " [-2.56197255 -1.17976765]\n",
      " [ 0.04090203 -1.99085101]\n",
      " [-1.41425757 -1.96085264]\n",
      " [-0.85725281 -0.35723517]\n",
      " [ 0.47447877 -1.47299399]\n",
      " [-1.7498937  -1.87951163]\n",
      " [ 1.26425708 -0.66231776]\n",
      " [ 1.03925218 -3.66618136]\n",
      " [-0.22557568 -2.43838382]\n",
      " [-0.35247326 -2.194004  ]\n",
      " [ 1.83730317 -0.5685618 ]\n",
      " [ 2.9500129   0.69081535]\n",
      " [-0.4670117  -0.88046855]\n",
      " [ 1.42355096 -0.94356593]\n",
      " [ 0.37993206 -2.23888534]\n",
      " [ 0.14611451 -2.31469851]\n",
      " [-0.24949435 -1.23986604]\n",
      " [ 0.65226982 -1.07148158]]\n"
     ]
    }
   ],
   "source": [
    "print (X.shape)\n",
    "print (X)"
   ]
  },
  {
   "cell_type": "code",
   "execution_count": 54,
   "metadata": {},
   "outputs": [
    {
     "name": "stdout",
     "output_type": "stream",
     "text": [
      "(100,)\n",
      "[1 1 1 1 1 1 1 0 0 0 1 0 1 0 0 1 1 1 0 0 0 0 1 1 1 0 0 1 0 1 0 0 1 1 0 1 0\n",
      " 0 0 1 0 0 1 0 1 1 1 1 0 1 1 1 0 0 0 0 0 1 0 0 0 1 1 0 0 0 0 0 0 1 0 1 0 0\n",
      " 1 0 1 0 1 0 1 1 0 1 0 0 1 0 1 0 0 1 1 1 0 1 0 1 0 1]\n"
     ]
    }
   ],
   "source": [
    "print (Y.shape)\n",
    "print (Y)"
   ]
  },
  {
   "cell_type": "code",
   "execution_count": 55,
   "metadata": {},
   "outputs": [
    {
     "data": {
      "text/plain": [
       "<matplotlib.collections.PathCollection at 0x1c0216ebd60>"
      ]
     },
     "execution_count": 55,
     "metadata": {},
     "output_type": "execute_result"
    },
    {
     "data": {
      "image/png": "[encoded data removed]",
      "text/plain": [
       "<Figure size 432x288 with 1 Axes>"
      ]
     },
     "metadata": {
      "needs_background": "light"
     },
     "output_type": "display_data"
    }
   ],
   "source": [
    "import matplotlib.pyplot as plt\n",
    "\n",
    "plt.scatter(X[:, 0], X[:, 1], c=Y)"
   ]
  },
  {
   "cell_type": "code",
   "execution_count": 56,
   "metadata": {},
   "outputs": [],
   "source": [
    "from sklearn.model_selection import train_test_split\n",
    "X_train, X_test, y_train, y_test = train_test_split(X, Y, test_size=0.2)"
   ]
  },
  {
   "cell_type": "code",
   "execution_count": 57,
   "metadata": {},
   "outputs": [
    {
     "name": "stdout",
     "output_type": "stream",
     "text": [
      "(80, 2)\n",
      "(80,)\n",
      "(20, 2)\n",
      "(20,)\n"
     ]
    }
   ],
   "source": [
    "print (X_train.shape)\n",
    "print (y_train.shape)\n",
    "print (X_test.shape)\n",
    "print (y_test.shape)"
   ]
  },
  {
   "cell_type": "code",
   "execution_count": 58,
   "metadata": {},
   "outputs": [
    {
     "data": {
      "text/plain": [
       "RidgeClassifier()"
      ]
     },
     "execution_count": 58,
     "metadata": {},
     "output_type": "execute_result"
    }
   ],
   "source": [
    "model = RidgeClassifier()\n",
    "model.fit(X_train, y_train)"
   ]
  },
  {
   "cell_type": "code",
   "execution_count": 59,
   "metadata": {},
   "outputs": [
    {
     "data": {
      "text/plain": [
       "0.8375"
      ]
     },
     "execution_count": 59,
     "metadata": {},
     "output_type": "execute_result"
    }
   ],
   "source": [
    "model.score(X_train, y_train)"
   ]
  },
  {
   "cell_type": "code",
   "execution_count": 60,
   "metadata": {},
   "outputs": [
    {
     "data": {
      "text/plain": [
       "0.9"
      ]
     },
     "execution_count": 60,
     "metadata": {},
     "output_type": "execute_result"
    }
   ],
   "source": [
    "model.score(X_test, y_test)"
   ]
  },
  {
   "cell_type": "code",
   "execution_count": null,
   "metadata": {},
   "outputs": [],
   "source": []
  },
  {
   "cell_type": "code",
   "execution_count": 61,
   "metadata": {},
   "outputs": [
    {
     "data": {
      "text/plain": [
       "<sklearn.metrics._plot.confusion_matrix.ConfusionMatrixDisplay at 0x1c0216be920>"
      ]
     },
     "execution_count": 61,
     "metadata": {},
     "output_type": "execute_result"
    },
    {
     "data": {
      "image/png": "[encoded data removed]",
      "text/plain": [
       "<Figure size 432x288 with 2 Axes>"
      ]
     },
     "metadata": {
      "needs_background": "light"
     },
     "output_type": "display_data"
    }
   ],
   "source": [
    "from sklearn.metrics import ConfusionMatrixDisplay\n",
    "y_pred = model.predict(X_test)\n",
    "ConfusionMatrixDisplay.from_predictions(y_test, y_pred)"
   ]
  },
  {
   "cell_type": "code",
   "execution_count": 62,
   "metadata": {},
   "outputs": [
    {
     "data": {
      "text/plain": [
       "<matplotlib.collections.PathCollection at 0x1c0217f7580>"
      ]
     },
     "execution_count": 62,
     "metadata": {},
     "output_type": "execute_result"
    },
    {
     "data": {
      "image/png": "[encoded data removed]",
      "text/plain": [
       "<Figure size 432x288 with 1 Axes>"
      ]
     },
     "metadata": {
      "needs_background": "light"
     },
     "output_type": "display_data"
    }
   ],
   "source": [
    "import matplotlib.pyplot as plt\n",
    "import numpy as np\n",
    "\n",
    "x_min, x_max = X[:, 0].min() - 1, X[:, 0].max() + 1\n",
    "y_min, y_max = X[:, 1].min() - 1, X[:, 1].max() + 1\n",
    "xx, yy = np.meshgrid(np.arange(x_min, x_max, 0.01), np.arange(y_min, y_max, 0.01))\n",
    "Z = model.predict(np.c_[xx.ravel(), yy.ravel()])\n",
    "Z = Z.reshape(xx.shape)\n",
    "plt.contourf(xx, yy, Z, alpha=0.4)\n",
    "plt.scatter(X[:, 0], X[:, 1], c=Y)"
   ]
  },
  {
   "cell_type": "code",
   "execution_count": 63,
   "metadata": {},
   "outputs": [
    {
     "name": "stdout",
     "output_type": "stream",
     "text": [
      "['setosa' 'versicolor' 'virginica']\n"
     ]
    }
   ],
   "source": [
    "from sklearn.datasets import load_iris\n",
    "from sklearn.linear_model import LogisticRegression\n",
    "\n",
    "# X, Y = load_iris(return_X_y=True)\n",
    "iris = load_iris()\n",
    "X = iris.data\n",
    "Y = iris.target\n",
    "\n",
    "target_names = iris.target_names\n",
    "print(target_names)\n",
    "\n",
    "X = X[:, :2]  # we only take the first two features."
   ]
  },
  {
   "cell_type": "code",
   "execution_count": 64,
   "metadata": {},
   "outputs": [
    {
     "data": {
      "text/plain": [
       "<matplotlib.collections.PathCollection at 0x1c01e79f130>"
      ]
     },
     "execution_count": 64,
     "metadata": {},
     "output_type": "execute_result"
    },
    {
     "data": {
      "image/png": "[encoded data removed]",
      "text/plain": [
       "<Figure size 432x288 with 1 Axes>"
      ]
     },
     "metadata": {
      "needs_background": "light"
     },
     "output_type": "display_data"
    }
   ],
   "source": [
    "plt.scatter(X[:, 0], X[:, 1], c=Y)"
   ]
  },
  {
   "cell_type": "code",
   "execution_count": 65,
   "metadata": {},
   "outputs": [],
   "source": [
    "X_train, X_test, y_train, y_test = train_test_split(X, Y, test_size=0.2)"
   ]
  },
  {
   "cell_type": "code",
   "execution_count": 66,
   "metadata": {},
   "outputs": [
    {
     "name": "stdout",
     "output_type": "stream",
     "text": [
      "(120, 2)\n",
      "(30, 2)\n"
     ]
    }
   ],
   "source": [
    "print(X_train.shape)\n",
    "print(X_test.shape)"
   ]
  },
  {
   "cell_type": "code",
   "execution_count": 67,
   "metadata": {},
   "outputs": [
    {
     "data": {
      "text/plain": [
       "LogisticRegression()"
      ]
     },
     "execution_count": 67,
     "metadata": {},
     "output_type": "execute_result"
    }
   ],
   "source": [
    "model = LogisticRegression()\n",
    "model.fit(X_train, y_train)"
   ]
  },
  {
   "cell_type": "code",
   "execution_count": 68,
   "metadata": {},
   "outputs": [
    {
     "data": {
      "text/plain": [
       "0.825"
      ]
     },
     "execution_count": 68,
     "metadata": {},
     "output_type": "execute_result"
    }
   ],
   "source": [
    "model.score(X_train, y_train)"
   ]
  },
  {
   "cell_type": "code",
   "execution_count": 69,
   "metadata": {},
   "outputs": [
    {
     "data": {
      "text/plain": [
       "0.7666666666666667"
      ]
     },
     "execution_count": 69,
     "metadata": {},
     "output_type": "execute_result"
    }
   ],
   "source": [
    "model.score(X_test, y_test)"
   ]
  },
  {
   "cell_type": "code",
   "execution_count": 70,
   "metadata": {},
   "outputs": [
    {
     "data": {
      "text/plain": [
       "<sklearn.metrics._plot.confusion_matrix.ConfusionMatrixDisplay at 0x1c01e7c6e90>"
      ]
     },
     "execution_count": 70,
     "metadata": {},
     "output_type": "execute_result"
    },
    {
     "data": {
      "image/png": "[encoded data removed]",
      "text/plain": [
       "<Figure size 432x288 with 2 Axes>"
      ]
     },
     "metadata": {
      "needs_background": "light"
     },
     "output_type": "display_data"
    }
   ],
   "source": [
    "from sklearn.metrics import ConfusionMatrixDisplay\n",
    "y_pred = model.predict(X_test)\n",
    "ConfusionMatrixDisplay.from_predictions(y_test, y_pred, display_labels=target_names)"
   ]
  },
  {
   "cell_type": "code",
   "execution_count": 71,
   "metadata": {},
   "outputs": [
    {
     "name": "stdout",
     "output_type": "stream",
     "text": [
      "[0 1 0 1 0 2 0 2 1 2 1 0 2 1 2 0 0 0 0 2 2 0 1 1 0 1 2 0 1 1]\n"
     ]
    }
   ],
   "source": [
    "y_pred = model.predict(X_test)\n",
    "print(y_pred)"
   ]
  },
  {
   "cell_type": "code",
   "execution_count": 72,
   "metadata": {},
   "outputs": [
    {
     "name": "stdout",
     "output_type": "stream",
     "text": [
      "[[9.85382809e-01 1.27536586e-02 1.86353259e-03]\n",
      " [3.87515036e-02 7.13933219e-01 2.47315278e-01]\n",
      " [9.01515420e-01 7.97310153e-02 1.87535645e-02]\n",
      " [3.47082823e-02 5.06166083e-01 4.59125635e-01]\n",
      " [6.96639795e-01 2.59269467e-01 4.40907374e-02]\n",
      " [1.63672706e-03 2.80784517e-01 7.17578756e-01]\n",
      " [8.67719638e-01 1.03676069e-01 2.86042922e-02]\n",
      " [1.01958633e-02 3.45813174e-01 6.43990963e-01]\n",
      " [2.34472149e-01 5.30522896e-01 2.35004955e-01]\n",
      " [1.64379111e-02 4.37518550e-01 5.46043539e-01]\n",
      " [5.28228960e-02 6.40902139e-01 3.06274965e-01]\n",
      " [9.28074148e-01 5.73079100e-02 1.46179422e-02]\n",
      " [2.25871678e-04 2.91830620e-02 9.70591066e-01]\n",
      " [6.73066113e-02 5.07283157e-01 4.25410232e-01]\n",
      " [3.51583541e-03 1.93633918e-01 8.02850247e-01]\n",
      " [8.66442634e-01 1.09752947e-01 2.38044190e-02]\n",
      " [9.56999647e-01 2.15086327e-02 2.14917202e-02]\n",
      " [7.43938640e-01 1.28415376e-01 1.27645984e-01]\n",
      " [9.43201328e-01 5.13716092e-02 5.42706257e-03]\n",
      " [2.62144609e-03 2.06783589e-01 7.90594965e-01]\n",
      " [2.40014885e-02 4.72871411e-01 5.03127100e-01]\n",
      " [9.62252947e-01 2.73211759e-02 1.04258774e-02]\n",
      " [9.95927349e-02 6.24496444e-01 2.75910821e-01]\n",
      " [4.96466997e-02 5.35926634e-01 4.14426666e-01]\n",
      " [9.00775262e-01 6.68557480e-02 3.23689897e-02]\n",
      " [5.28228960e-02 6.40902139e-01 3.06274965e-01]\n",
      " [1.11608821e-02 4.01322332e-01 5.87516786e-01]\n",
      " [7.60211050e-01 2.09426826e-01 3.03621239e-02]\n",
      " [5.34889522e-02 6.88035554e-01 2.58475493e-01]\n",
      " [3.82551505e-02 7.92161080e-01 1.69583769e-01]]\n"
     ]
    }
   ],
   "source": [
    "y_pred_prob = model.predict_proba(X_test)\n",
    "print (y_pred_prob)"
   ]
  },
  {
   "cell_type": "markdown",
   "metadata": {},
   "source": [
    "# SVM"
   ]
  },
  {
   "cell_type": "code",
   "execution_count": 73,
   "metadata": {},
   "outputs": [
    {
     "name": "stdout",
     "output_type": "stream",
     "text": [
      "['setosa' 'versicolor' 'virginica']\n"
     ]
    }
   ],
   "source": [
    "from sklearn.datasets import load_iris\n",
    "from sklearn import svm\n",
    "\n",
    "# X, Y = load_iris(return_X_y=True)\n",
    "iris = load_iris()\n",
    "X = iris.data\n",
    "Y = iris.target\n",
    "\n",
    "target_names = iris.target_names\n",
    "print(target_names)\n",
    "\n",
    "X = X[:, :2]  # we only take the first two features."
   ]
  },
  {
   "cell_type": "code",
   "execution_count": 74,
   "metadata": {},
   "outputs": [],
   "source": [
    "X_train, X_test, y_train, y_test = train_test_split(X, Y, test_size=0.2)"
   ]
  },
  {
   "cell_type": "code",
   "execution_count": 89,
   "metadata": {},
   "outputs": [],
   "source": [
    "model = svm.LinearSVC(max_iter=1000)"
   ]
  },
  {
   "cell_type": "code",
   "execution_count": 90,
   "metadata": {},
   "outputs": [
    {
     "name": "stderr",
     "output_type": "stream",
     "text": [
      "C:\\Users\\Robotux\\AppData\\Local\\Programs\\Python\\Python310\\lib\\site-packages\\sklearn\\svm\\_base.py:1206: ConvergenceWarning: Liblinear failed to converge, increase the number of iterations.\n",
      "  warnings.warn(\n"
     ]
    },
    {
     "data": {
      "text/plain": [
       "LinearSVC()"
      ]
     },
     "execution_count": 90,
     "metadata": {},
     "output_type": "execute_result"
    }
   ],
   "source": [
    "model.fit(X_train, y_train)"
   ]
  },
  {
   "cell_type": "code",
   "execution_count": 91,
   "metadata": {},
   "outputs": [
    {
     "data": {
      "text/plain": [
       "0.8583333333333333"
      ]
     },
     "execution_count": 91,
     "metadata": {},
     "output_type": "execute_result"
    }
   ],
   "source": [
    "model.score(X_train, y_train)"
   ]
  },
  {
   "cell_type": "code",
   "execution_count": 92,
   "metadata": {},
   "outputs": [
    {
     "data": {
      "text/plain": [
       "0.6333333333333333"
      ]
     },
     "execution_count": 92,
     "metadata": {},
     "output_type": "execute_result"
    }
   ],
   "source": [
    "model.score(X_test, y_test)"
   ]
  },
  {
   "cell_type": "code",
   "execution_count": 93,
   "metadata": {},
   "outputs": [
    {
     "data": {
      "text/plain": [
       "<sklearn.metrics._plot.confusion_matrix.ConfusionMatrixDisplay at 0x1c01e857c70>"
      ]
     },
     "execution_count": 93,
     "metadata": {},
     "output_type": "execute_result"
    },
    {
     "data": {
      "image/png": "[encoded data removed]",
      "text/plain": [
       "<Figure size 432x288 with 2 Axes>"
      ]
     },
     "metadata": {
      "needs_background": "light"
     },
     "output_type": "display_data"
    }
   ],
   "source": [
    "from sklearn.metrics import ConfusionMatrixDisplay\n",
    "y_pred = model.predict(X_test)\n",
    "ConfusionMatrixDisplay.from_predictions(y_test, y_pred, display_labels=target_names)"
   ]
  },
  {
   "cell_type": "code",
   "execution_count": 110,
   "metadata": {},
   "outputs": [
    {
     "name": "stdout",
     "output_type": "stream",
     "text": [
      "(120,)\n",
      "(30, 30)\n",
      "(900, 2)\n",
      "(900,)\n"
     ]
    },
    {
     "data": {
      "text/plain": [
       "<matplotlib.contour.QuadContourSet at 0x1c0245773d0>"
      ]
     },
     "execution_count": 110,
     "metadata": {},
     "output_type": "execute_result"
    },
    {
     "data": {
      "image/png": "[encoded data removed]",
      "text/plain": [
       "<Figure size 432x288 with 2 Axes>"
      ]
     },
     "metadata": {
      "needs_background": "light"
     },
     "output_type": "display_data"
    }
   ],
   "source": [
    "fig, axes = plt.subplots(1,2)\n",
    "\n",
    "axes[0].scatter(X[:, 0], X[:, 1], c=Y)\n",
    "\n",
    "# For Plotting decision boundary\n",
    "xlim = axes[0].get_xlim()\n",
    "ylim = axes[0].get_ylim()\n",
    "# create grid to evaluate model\n",
    "xx = np.linspace(xlim[0], xlim[1], 30)\n",
    "yy = np.linspace(ylim[0], ylim[1], 30)\n",
    "YY, XX = np.meshgrid(yy, xx)\n",
    "xy = np.vstack([XX.ravel(), YY.ravel()]).T\n",
    "print (model.predict(X_train).shape )\n",
    "print (XX.shape)\n",
    "print (xy.shape)\n",
    "Z = model.predict(xy)\n",
    "print (Z.shape)\n",
    "Z = Z.reshape(XX.shape)\n",
    "axes[0].contour(\n",
    "    XX, YY, Z, colors=\"k\", levels=[-1, 0, 1], alpha=0.5, linestyles=[\"--\", \"-\", \"--\"]\n",
    ")\n"
   ]
  },
  {
   "cell_type": "code",
   "execution_count": 1,
   "metadata": {},
   "outputs": [],
   "source": [
    "import matplotlib.pyplot as plt\n",
    "from sklearn.datasets import load_iris\n",
    "from sklearn.tree import DecisionTreeClassifier\n",
    "from sklearn.model_selection import train_test_split\n",
    "from sklearn import tree\n",
    "\n",
    "iris = load_iris()\n",
    "X = iris.data\n",
    "Y = iris.target\n"
   ]
  },
  {
   "cell_type": "code",
   "execution_count": 2,
   "metadata": {},
   "outputs": [
    {
     "ename": "NameError",
     "evalue": "name 'train_test_split' is not defined",
     "output_type": "error",
     "traceback": [
      "\u001b[1;31m---------------------------------------------------------------------------\u001b[0m",
      "\u001b[1;31mNameError\u001b[0m                                 Traceback (most recent call last)",
      "\u001b[1;32mc:\\Users\\Robotux\\Documents\\Python\\-20220329VCSMALB2B\\lesson_2.ipynb Cell 39'\u001b[0m in \u001b[0;36m<module>\u001b[1;34m\u001b[0m\n\u001b[1;32m----> <a href='vscode-notebook-cell:/c%3A/Users/Robotux/Documents/Python/-20220329VCSMALB2B/lesson_2.ipynb#ch0000039?line=0'>1</a>\u001b[0m X_train, X_test, y_train, y_test \u001b[39m=\u001b[39m train_test_split(X, Y, test_size\u001b[39m=\u001b[39m\u001b[39m0.2\u001b[39m)\n",
      "\u001b[1;31mNameError\u001b[0m: name 'train_test_split' is not defined"
     ]
    }
   ],
   "source": [
    "X_train, X_test, y_train, y_test = train_test_split(X, Y, test_size=0.2)"
   ]
  },
  {
   "cell_type": "code",
   "execution_count": 3,
   "metadata": {},
   "outputs": [
    {
     "ename": "NameError",
     "evalue": "name 'X_train' is not defined",
     "output_type": "error",
     "traceback": [
      "\u001b[1;31m---------------------------------------------------------------------------\u001b[0m",
      "\u001b[1;31mNameError\u001b[0m                                 Traceback (most recent call last)",
      "\u001b[1;32mc:\\Users\\Robotux\\Documents\\Python\\-20220329VCSMALB2B\\lesson_2.ipynb Cell 40'\u001b[0m in \u001b[0;36m<module>\u001b[1;34m\u001b[0m\n\u001b[0;32m      <a href='vscode-notebook-cell:/c%3A/Users/Robotux/Documents/Python/-20220329VCSMALB2B/lesson_2.ipynb#ch0000038?line=0'>1</a>\u001b[0m clf \u001b[39m=\u001b[39m DecisionTreeClassifier()\n\u001b[1;32m----> <a href='vscode-notebook-cell:/c%3A/Users/Robotux/Documents/Python/-20220329VCSMALB2B/lesson_2.ipynb#ch0000038?line=1'>2</a>\u001b[0m clf\u001b[39m.\u001b[39mfit(X_train, y_test)\n",
      "\u001b[1;31mNameError\u001b[0m: name 'X_train' is not defined"
     ]
    }
   ],
   "source": [
    "clf = DecisionTreeClassifier()\n",
    "clf.fit(X_train, y_test)"
   ]
  },
  {
   "cell_type": "code",
   "execution_count": null,
   "metadata": {},
   "outputs": [],
   "source": []
  }
 ],
 "metadata": {
  "interpreter": {
   "hash": "ce3f3f42ea1e24236ee7d8b6e939f07d74c5d5b656410ea2a0e47f46c58e1c3f"
  },
  "kernelspec": {
   "display_name": "Python 3.10.2 64-bit",
   "language": "python",
   "name": "python3"
  },
  "language_info": {
   "codemirror_mode": {
    "name": "ipython",
    "version": 3
   },
   "file_extension": ".py",
   "mimetype": "text/x-python",
   "name": "python",
   "nbconvert_exporter": "python",
   "pygments_lexer": "ipython3",
   "version": "3.10.2"
  },
  "orig_nbformat": 4
 },
 "nbformat": 4,
 "nbformat_minor": 2
}
